{
 "cells": [
  {
   "cell_type": "code",
   "execution_count": 2,
   "id": "dacd9808",
   "metadata": {},
   "outputs": [],
   "source": [
    "import pandas as pd\n"
   ]
  },
  {
   "cell_type": "code",
   "execution_count": 3,
   "id": "f3154915",
   "metadata": {},
   "outputs": [],
   "source": [
    "df = pd.read_csv('sales_dataset_comprehensive.csv', parse_dates=['Date'])\n"
   ]
  },
  {
   "cell_type": "code",
   "execution_count": 4,
   "id": "cccca750",
   "metadata": {},
   "outputs": [],
   "source": [
    "total_revenue = df['Total_Amount'].sum()\n",
    "total_transactions = len(df)\n",
    "avg_transaction = df['Total_Amount'].mean()\n",
    "min_transaction = df['Total_Amount'].min()\n",
    "max_transaction = df['Total_Amount'].max()\n",
    "date_range = f\"{df['Date'].min().strftime('%Y-%m-%d')} to {df['Date'].max().strftime('%Y-%m-%d')}\""
   ]
  },
  {
   "cell_type": "code",
   "execution_count": 8,
   "id": "8d7eb04d",
   "metadata": {},
   "outputs": [
    {
     "data": {
      "text/plain": [
       "(np.float64(4550978.7),\n",
       " 5000,\n",
       " np.float64(910.19574),\n",
       " '2020-01-01 to 2023-12-31',\n",
       " np.float64(17.71),\n",
       " np.float64(6794.71))"
      ]
     },
     "execution_count": 8,
     "metadata": {},
     "output_type": "execute_result"
    }
   ],
   "source": [
    "total_revenue, total_transactions, avg_transaction, date_range, min_transaction, max_transaction"
   ]
  },
  {
   "cell_type": "code",
   "execution_count": null,
   "id": "afb0fe0c",
   "metadata": {},
   "outputs": [],
   "source": []
  }
 ],
 "metadata": {
  "kernelspec": {
   "display_name": "myvenv",
   "language": "python",
   "name": "python3"
  },
  "language_info": {
   "codemirror_mode": {
    "name": "ipython",
    "version": 3
   },
   "file_extension": ".py",
   "mimetype": "text/x-python",
   "name": "python",
   "nbconvert_exporter": "python",
   "pygments_lexer": "ipython3",
   "version": "3.13.3"
  }
 },
 "nbformat": 4,
 "nbformat_minor": 5
}
