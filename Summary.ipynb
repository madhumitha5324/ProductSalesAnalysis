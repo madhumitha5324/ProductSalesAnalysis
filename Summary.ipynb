{
 "cells": [
  {
   "cell_type": "code",
   "execution_count": 1,
   "id": "dacd9808",
   "metadata": {},
   "outputs": [],
   "source": [
    "import pandas as pd\n"
   ]
  },
  {
   "cell_type": "code",
   "execution_count": 2,
   "id": "f3154915",
   "metadata": {},
   "outputs": [],
   "source": [
    "df = pd.read_csv('sales_dataset_comprehensive.csv', parse_dates=['Date'])\n"
   ]
  },
  {
   "cell_type": "code",
   "execution_count": 3,
   "id": "dd4f38ff",
   "metadata": {},
   "outputs": [
    {
     "data": {
      "text/plain": [
       "(5000, 21)"
      ]
     },
     "execution_count": 3,
     "metadata": {},
     "output_type": "execute_result"
    }
   ],
   "source": [
    "df.shape"
   ]
  },
  {
   "cell_type": "code",
   "execution_count": 4,
   "id": "05e7aab1",
   "metadata": {},
   "outputs": [
    {
     "data": {
      "text/plain": [
       "<bound method DataFrame.info of                               Date     Product     Category   Region  \\\n",
       "0    2020-01-01 00:00:00.000000000  Headphones  Accessories     West   \n",
       "1    2020-01-01 07:00:33.846769353    Keyboard  Accessories  Central   \n",
       "2    2020-01-01 14:01:07.693538707     Scanner  Accessories     East   \n",
       "3    2020-01-01 21:01:41.540308061      Tablet  Electronics    South   \n",
       "4    2020-01-02 04:02:15.387077415     Monitor  Electronics  Central   \n",
       "...                            ...         ...          ...      ...   \n",
       "4995 2023-12-29 19:57:44.612922592       Phone  Electronics    North   \n",
       "4996 2023-12-30 02:58:18.459691936      Laptop  Electronics    North   \n",
       "4997 2023-12-30 09:58:52.306461296     Desktop  Electronics     West   \n",
       "4998 2023-12-30 16:59:26.153230640     Desktop  Electronics    North   \n",
       "4999 2023-12-31 00:00:00.000000000      Webcam  Accessories    North   \n",
       "\n",
       "          Salesperson    Customer_ID  Quantity  Unit_Price  Discount_Rate  \\\n",
       "0     Sales_Person_15  Customer_0577         2       79.22          0.068   \n",
       "1     Sales_Person_19  Customer_0581        15       46.69          0.074   \n",
       "2     Sales_Person_22  Customer_0952         4      182.63          0.063   \n",
       "3     Sales_Person_10  Customer_0009         2      355.84          0.041   \n",
       "4     Sales_Person_12  Customer_0236         2      283.01          0.206   \n",
       "...               ...            ...       ...         ...            ...   \n",
       "4995  Sales_Person_13  Customer_0856         3      537.06          0.083   \n",
       "4996  Sales_Person_09  Customer_0954         5      925.35          0.125   \n",
       "4997  Sales_Person_15  Customer_0444         3      547.97          0.078   \n",
       "4998  Sales_Person_07  Customer_0434         5      586.13          0.036   \n",
       "4999  Sales_Person_01  Customer_0228         2      103.05          0.161   \n",
       "\n",
       "      Subtotal  ...  Total_Amount  Customer_Age  Customer_Satisfaction  \\\n",
       "0       158.45  ...        147.74            20                    4.5   \n",
       "1       700.42  ...        648.43            31                    3.0   \n",
       "2       730.51  ...        684.30            37                    2.5   \n",
       "3       711.69  ...        682.49            57                    4.9   \n",
       "4       566.02  ...        449.40            70                    4.3   \n",
       "...        ...  ...           ...           ...                    ...   \n",
       "4995   1611.19  ...       1773.49            28                    4.9   \n",
       "4996   4626.77  ...       4857.80            64                    2.3   \n",
       "4997   1643.90  ...       1819.42            57                    3.3   \n",
       "4998   2930.64  ...       3390.68            52                    3.2   \n",
       "4999    206.10  ...        207.51            60                    2.8   \n",
       "\n",
       "      Payment_Method Order_Priority Month  Year  Quarter  Day_of_Week  \\\n",
       "0      Bank Transfer            Low     1  2020        1    Wednesday   \n",
       "1        Credit Card           High     1  2020        1    Wednesday   \n",
       "2      Bank Transfer           High     1  2020        1    Wednesday   \n",
       "3        Credit Card         Medium     1  2020        1    Wednesday   \n",
       "4      Bank Transfer         Medium     1  2020        1     Thursday   \n",
       "...              ...            ...   ...   ...      ...          ...   \n",
       "4995     Credit Card           High    12  2023        4       Friday   \n",
       "4996            Cash            Low    12  2023        4     Saturday   \n",
       "4997   Bank Transfer            Low    12  2023        4     Saturday   \n",
       "4998            Cash           High    12  2023        4     Saturday   \n",
       "4999      Debit Card         Medium    12  2023        4       Sunday   \n",
       "\n",
       "     Month_Name  \n",
       "0       January  \n",
       "1       January  \n",
       "2       January  \n",
       "3       January  \n",
       "4       January  \n",
       "...         ...  \n",
       "4995   December  \n",
       "4996   December  \n",
       "4997   December  \n",
       "4998   December  \n",
       "4999   December  \n",
       "\n",
       "[5000 rows x 21 columns]>"
      ]
     },
     "execution_count": 4,
     "metadata": {},
     "output_type": "execute_result"
    }
   ],
   "source": [
    "df.info"
   ]
  },
  {
   "cell_type": "code",
   "execution_count": 5,
   "id": "9f720403",
   "metadata": {},
   "outputs": [
    {
     "data": {
      "text/html": [
       "<div>\n",
       "<style scoped>\n",
       "    .dataframe tbody tr th:only-of-type {\n",
       "        vertical-align: middle;\n",
       "    }\n",
       "\n",
       "    .dataframe tbody tr th {\n",
       "        vertical-align: top;\n",
       "    }\n",
       "\n",
       "    .dataframe thead th {\n",
       "        text-align: right;\n",
       "    }\n",
       "</style>\n",
       "<table border=\"1\" class=\"dataframe\">\n",
       "  <thead>\n",
       "    <tr style=\"text-align: right;\">\n",
       "      <th></th>\n",
       "      <th>Date</th>\n",
       "      <th>Quantity</th>\n",
       "      <th>Unit_Price</th>\n",
       "      <th>Discount_Rate</th>\n",
       "      <th>Subtotal</th>\n",
       "      <th>Discount_Amount</th>\n",
       "      <th>Total_Amount</th>\n",
       "      <th>Customer_Age</th>\n",
       "      <th>Customer_Satisfaction</th>\n",
       "      <th>Month</th>\n",
       "      <th>Year</th>\n",
       "      <th>Quarter</th>\n",
       "    </tr>\n",
       "  </thead>\n",
       "  <tbody>\n",
       "    <tr>\n",
       "      <th>count</th>\n",
       "      <td>5000</td>\n",
       "      <td>5000.000000</td>\n",
       "      <td>5000.000000</td>\n",
       "      <td>5000.000000</td>\n",
       "      <td>5000.000000</td>\n",
       "      <td>5000.000000</td>\n",
       "      <td>5000.000000</td>\n",
       "      <td>5000.000000</td>\n",
       "      <td>5000.000000</td>\n",
       "      <td>5000.000000</td>\n",
       "      <td>5000.000000</td>\n",
       "      <td>5000.000000</td>\n",
       "    </tr>\n",
       "    <tr>\n",
       "      <th>mean</th>\n",
       "      <td>2021-12-31 00:00:00</td>\n",
       "      <td>4.154600</td>\n",
       "      <td>319.059492</td>\n",
       "      <td>0.125717</td>\n",
       "      <td>1006.933690</td>\n",
       "      <td>126.557840</td>\n",
       "      <td>910.195740</td>\n",
       "      <td>46.136800</td>\n",
       "      <td>3.500420</td>\n",
       "      <td>6.518400</td>\n",
       "      <td>2021.498000</td>\n",
       "      <td>2.507400</td>\n",
       "    </tr>\n",
       "    <tr>\n",
       "      <th>min</th>\n",
       "      <td>2020-01-01 00:00:00</td>\n",
       "      <td>1.000000</td>\n",
       "      <td>20.020000</td>\n",
       "      <td>0.000000</td>\n",
       "      <td>22.940000</td>\n",
       "      <td>0.030000</td>\n",
       "      <td>17.710000</td>\n",
       "      <td>18.000000</td>\n",
       "      <td>2.000000</td>\n",
       "      <td>1.000000</td>\n",
       "      <td>2020.000000</td>\n",
       "      <td>1.000000</td>\n",
       "    </tr>\n",
       "    <tr>\n",
       "      <th>25%</th>\n",
       "      <td>2020-12-31 00:00:00</td>\n",
       "      <td>2.000000</td>\n",
       "      <td>86.195000</td>\n",
       "      <td>0.063000</td>\n",
       "      <td>303.007500</td>\n",
       "      <td>25.232500</td>\n",
       "      <td>270.295000</td>\n",
       "      <td>32.000000</td>\n",
       "      <td>2.800000</td>\n",
       "      <td>4.000000</td>\n",
       "      <td>2020.000000</td>\n",
       "      <td>2.000000</td>\n",
       "    </tr>\n",
       "    <tr>\n",
       "      <th>50%</th>\n",
       "      <td>2021-12-31 00:00:00</td>\n",
       "      <td>3.000000</td>\n",
       "      <td>199.990000</td>\n",
       "      <td>0.126000</td>\n",
       "      <td>590.110000</td>\n",
       "      <td>63.375000</td>\n",
       "      <td>533.765000</td>\n",
       "      <td>46.000000</td>\n",
       "      <td>3.500000</td>\n",
       "      <td>7.000000</td>\n",
       "      <td>2021.000000</td>\n",
       "      <td>3.000000</td>\n",
       "    </tr>\n",
       "    <tr>\n",
       "      <th>75%</th>\n",
       "      <td>2022-12-31 00:00:00</td>\n",
       "      <td>5.000000</td>\n",
       "      <td>507.700000</td>\n",
       "      <td>0.189000</td>\n",
       "      <td>1342.997500</td>\n",
       "      <td>154.460000</td>\n",
       "      <td>1197.235000</td>\n",
       "      <td>60.000000</td>\n",
       "      <td>4.300000</td>\n",
       "      <td>10.000000</td>\n",
       "      <td>2022.000000</td>\n",
       "      <td>4.000000</td>\n",
       "    </tr>\n",
       "    <tr>\n",
       "      <th>max</th>\n",
       "      <td>2023-12-31 00:00:00</td>\n",
       "      <td>19.000000</td>\n",
       "      <td>1199.870000</td>\n",
       "      <td>0.250000</td>\n",
       "      <td>5999.370000</td>\n",
       "      <td>1398.020000</td>\n",
       "      <td>6794.710000</td>\n",
       "      <td>74.000000</td>\n",
       "      <td>5.000000</td>\n",
       "      <td>12.000000</td>\n",
       "      <td>2023.000000</td>\n",
       "      <td>4.000000</td>\n",
       "    </tr>\n",
       "    <tr>\n",
       "      <th>std</th>\n",
       "      <td>NaN</td>\n",
       "      <td>3.627083</td>\n",
       "      <td>290.894627</td>\n",
       "      <td>0.072250</td>\n",
       "      <td>1044.067901</td>\n",
       "      <td>167.529015</td>\n",
       "      <td>959.750317</td>\n",
       "      <td>16.357029</td>\n",
       "      <td>0.867196</td>\n",
       "      <td>3.447846</td>\n",
       "      <td>1.118323</td>\n",
       "      <td>1.117047</td>\n",
       "    </tr>\n",
       "  </tbody>\n",
       "</table>\n",
       "</div>"
      ],
      "text/plain": [
       "                      Date     Quantity   Unit_Price  Discount_Rate  \\\n",
       "count                 5000  5000.000000  5000.000000    5000.000000   \n",
       "mean   2021-12-31 00:00:00     4.154600   319.059492       0.125717   \n",
       "min    2020-01-01 00:00:00     1.000000    20.020000       0.000000   \n",
       "25%    2020-12-31 00:00:00     2.000000    86.195000       0.063000   \n",
       "50%    2021-12-31 00:00:00     3.000000   199.990000       0.126000   \n",
       "75%    2022-12-31 00:00:00     5.000000   507.700000       0.189000   \n",
       "max    2023-12-31 00:00:00    19.000000  1199.870000       0.250000   \n",
       "std                    NaN     3.627083   290.894627       0.072250   \n",
       "\n",
       "          Subtotal  Discount_Amount  Total_Amount  Customer_Age  \\\n",
       "count  5000.000000      5000.000000   5000.000000   5000.000000   \n",
       "mean   1006.933690       126.557840    910.195740     46.136800   \n",
       "min      22.940000         0.030000     17.710000     18.000000   \n",
       "25%     303.007500        25.232500    270.295000     32.000000   \n",
       "50%     590.110000        63.375000    533.765000     46.000000   \n",
       "75%    1342.997500       154.460000   1197.235000     60.000000   \n",
       "max    5999.370000      1398.020000   6794.710000     74.000000   \n",
       "std    1044.067901       167.529015    959.750317     16.357029   \n",
       "\n",
       "       Customer_Satisfaction        Month         Year      Quarter  \n",
       "count            5000.000000  5000.000000  5000.000000  5000.000000  \n",
       "mean                3.500420     6.518400  2021.498000     2.507400  \n",
       "min                 2.000000     1.000000  2020.000000     1.000000  \n",
       "25%                 2.800000     4.000000  2020.000000     2.000000  \n",
       "50%                 3.500000     7.000000  2021.000000     3.000000  \n",
       "75%                 4.300000    10.000000  2022.000000     4.000000  \n",
       "max                 5.000000    12.000000  2023.000000     4.000000  \n",
       "std                 0.867196     3.447846     1.118323     1.117047  "
      ]
     },
     "execution_count": 5,
     "metadata": {},
     "output_type": "execute_result"
    }
   ],
   "source": [
    "df.describe()"
   ]
  },
  {
   "cell_type": "code",
   "execution_count": 6,
   "id": "57dc88c3",
   "metadata": {},
   "outputs": [
    {
     "data": {
      "text/plain": [
       "Index(['Date', 'Product', 'Category', 'Region', 'Salesperson', 'Customer_ID',\n",
       "       'Quantity', 'Unit_Price', 'Discount_Rate', 'Subtotal',\n",
       "       'Discount_Amount', 'Total_Amount', 'Customer_Age',\n",
       "       'Customer_Satisfaction', 'Payment_Method', 'Order_Priority', 'Month',\n",
       "       'Year', 'Quarter', 'Day_of_Week', 'Month_Name'],\n",
       "      dtype='object')"
      ]
     },
     "execution_count": 6,
     "metadata": {},
     "output_type": "execute_result"
    }
   ],
   "source": [
    "df.columns"
   ]
  },
  {
   "cell_type": "code",
   "execution_count": 7,
   "id": "ebd2147d",
   "metadata": {},
   "outputs": [
    {
     "data": {
      "text/plain": [
       "['Date',\n",
       " 'Product',\n",
       " 'Category',\n",
       " 'Region',\n",
       " 'Salesperson',\n",
       " 'Customer_ID',\n",
       " 'Quantity',\n",
       " 'Unit_Price',\n",
       " 'Discount_Rate',\n",
       " 'Subtotal',\n",
       " 'Discount_Amount',\n",
       " 'Total_Amount',\n",
       " 'Customer_Age',\n",
       " 'Customer_Satisfaction',\n",
       " 'Payment_Method',\n",
       " 'Order_Priority',\n",
       " 'Month',\n",
       " 'Year',\n",
       " 'Quarter',\n",
       " 'Day_of_Week',\n",
       " 'Month_Name']"
      ]
     },
     "execution_count": 7,
     "metadata": {},
     "output_type": "execute_result"
    }
   ],
   "source": [
    "list(df.columns)"
   ]
  },
  {
   "cell_type": "code",
   "execution_count": 9,
   "id": "03cfd0e8",
   "metadata": {},
   "outputs": [
    {
     "data": {
      "text/plain": [
       "['Date',\n",
       " 'Product',\n",
       " 'Category',\n",
       " 'Region',\n",
       " 'Salesperson',\n",
       " 'Customer_ID',\n",
       " 'Quantity',\n",
       " 'Unit_Price',\n",
       " 'Discount_Rate',\n",
       " 'Subtotal',\n",
       " 'Discount_Amount',\n",
       " 'Total_Amount',\n",
       " 'Customer_Age',\n",
       " 'Customer_Satisfaction',\n",
       " 'Payment_Method',\n",
       " 'Order_Priority',\n",
       " 'Month',\n",
       " 'Year',\n",
       " 'Quarter',\n",
       " 'Day_of_Week',\n",
       " 'Month_Name']"
      ]
     },
     "execution_count": 9,
     "metadata": {},
     "output_type": "execute_result"
    }
   ],
   "source": [
    "df.columns.to_list()"
   ]
  },
  {
   "cell_type": "code",
   "execution_count": 8,
   "id": "17f0154e",
   "metadata": {},
   "outputs": [
    {
     "data": {
      "text/plain": [
       "Date                     0\n",
       "Product                  0\n",
       "Category                 0\n",
       "Region                   0\n",
       "Salesperson              0\n",
       "Customer_ID              0\n",
       "Quantity                 0\n",
       "Unit_Price               0\n",
       "Discount_Rate            0\n",
       "Subtotal                 0\n",
       "Discount_Amount          0\n",
       "Total_Amount             0\n",
       "Customer_Age             0\n",
       "Customer_Satisfaction    0\n",
       "Payment_Method           0\n",
       "Order_Priority           0\n",
       "Month                    0\n",
       "Year                     0\n",
       "Quarter                  0\n",
       "Day_of_Week              0\n",
       "Month_Name               0\n",
       "dtype: int64"
      ]
     },
     "execution_count": 8,
     "metadata": {},
     "output_type": "execute_result"
    }
   ],
   "source": [
    "df.isnull().sum()"
   ]
  },
  {
   "cell_type": "code",
   "execution_count": 14,
   "id": "cccca750",
   "metadata": {},
   "outputs": [],
   "source": [
    "total_revenue = df['Total_Amount'].sum()\n",
    "total_transactions = len(df)\n",
    "avg_transaction = df['Total_Amount'].mean()\n",
    "min_transaction = df['Total_Amount'].min()\n",
    "max_transaction = df['Total_Amount'].max()\n",
    "date_range = f\"{df['Date'].min().strftime('%Y-%m-%d')} to {df['Date'].max().strftime('%Y-%m-%d')}\""
   ]
  },
  {
   "cell_type": "code",
   "execution_count": 15,
   "id": "8d7eb04d",
   "metadata": {},
   "outputs": [
    {
     "data": {
      "text/plain": [
       "(np.float64(4550978.7),\n",
       " 5000,\n",
       " np.float64(910.19574),\n",
       " '2020-01-01 to 2023-12-31',\n",
       " np.float64(17.71),\n",
       " np.float64(6794.71))"
      ]
     },
     "execution_count": 15,
     "metadata": {},
     "output_type": "execute_result"
    }
   ],
   "source": [
    "total_revenue, total_transactions, avg_transaction, date_range, min_transaction, max_transaction"
   ]
  },
  {
   "cell_type": "code",
   "execution_count": null,
   "id": "afb0fe0c",
   "metadata": {},
   "outputs": [],
   "source": []
  }
 ],
 "metadata": {
  "kernelspec": {
   "display_name": "myvenv",
   "language": "python",
   "name": "python3"
  },
  "language_info": {
   "codemirror_mode": {
    "name": "ipython",
    "version": 3
   },
   "file_extension": ".py",
   "mimetype": "text/x-python",
   "name": "python",
   "nbconvert_exporter": "python",
   "pygments_lexer": "ipython3",
   "version": "3.13.3"
  }
 },
 "nbformat": 4,
 "nbformat_minor": 5
}
